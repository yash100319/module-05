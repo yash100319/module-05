{
  "nbformat": 4,
  "nbformat_minor": 0,
  "metadata": {
    "colab": {
      "provenance": [],
      "toc_visible": true
    },
    "kernelspec": {
      "name": "python3",
      "display_name": "Python 3"
    },
    "language_info": {
      "name": "python"
    }
  },
  "cells": [
    {
      "cell_type": "code",
      "execution_count": null,
      "metadata": {
        "id": "3v2YLjI3-kxg"
      },
      "outputs": [],
      "source": []
    },
    {
      "cell_type": "markdown",
      "source": [],
      "metadata": {
        "id": "1rUlfJw9Txj7"
      }
    },
    {
      "cell_type": "markdown",
      "source": [
        "#Python OOPs Questions\n",
        "1 What is Object-Oriented Programming (OOP) ?\n",
        "- Object-Oriented Programming (OOP) is a programming paradigm that organizes code into objects, which are instances of classes. It focuses on using objects to model real-world entities and relationships. The main idea is to bundle data (attributes) and methods (functions) that operate on the data into a single unit called a class, and create objects (instances) from these classes.\n",
        "2 What is a class in OOP ?\n",
        "- In Object-Oriented Programming (OOP), a class is a blueprint or template for creating objects. It defines a type, which specifies the attributes (data) and methods (functions) that objects of that class will have. Think of a class as a mold, and the objects are the individual instances that come out of that mold.\n",
        "3 What is an object in OOP ?\n",
        "- In Object-Oriented Programming (OOP), an object is a fundamental unit that represents an instance of a class. A class is like a blueprint, and an object is a specific instance of that blueprint.\n",
        "Attributes (or properties): These are the characteristics or data associated with the object. For example, if you have a Car class, attributes might include color, model, and speed.\n",
        "\n",
        "Methods (or functions): These are the behaviors or actions that the object can perform. For example, a Car object might have methods like start(), accelerate(), and brake().\n",
        "4 What is the difference between abstraction and encapsulation ?\n",
        "- Abstraction\n",
        "Purpose: Abstraction is about hiding the complexity of a system by exposing only the essential features or functionality. It focuses on what an object does, not how it does it.\n",
        "\n",
        "Key Concept: It simplifies the interaction with the system by providing a clear interface while hiding the intricate details of implementation.\n",
        "\n",
        "Example: Think of a TV remote control. You don't need to understand the complex circuits inside the TV to change the channel or adjust the volume. The remote abstracts the inner workings of the TV and provides a simple interface for users.\n",
        "\n",
        "Encapsulation\n",
        "Purpose: Encapsulation is about bundling the data (attributes) and methods (functions) that operate on that data into a single unit (class). It also involves restricting access to some of the object's components to prevent unintended interference and misuse.\n",
        "\n",
        "Key Concept: It is often implemented by setting visibility restrictions (such as private or protected fields/methods) to control access and ensure that data is only modified in well-defined ways.\n",
        "\n",
        "Example: In a bank account class, you might have private fields like balance and expose public methods like deposit() and withdraw() to manipulate the balance, ensuring the balance can't be directly changed without validation.\n",
        "5 What are dunder methods in Python ?\n",
        "- Dunder methods (short for \"double underscore methods\") are special methods in Python that have double underscores at the beginning and end of their names, like __init__, __str__, and __len__. These methods are also called magic methods or special methods. They are used to define how objects behave in specific situations, such as when performing arithmetic operations, string representations, or comparisons.\n",
        "6  Explain the concept of inheritance in OOP ?\n",
        "- Inheritance is one of the core concepts in Object-Oriented Programming (OOP). It allows a class to inherit properties and behaviors (methods) from another class, promoting code reuse and the creation of hierarchical relationships between classes.\n",
        "\n",
        "Here's how inheritance works:\n",
        "\n",
        "Base Class (Parent Class): This is the class that provides common attributes and methods that are shared by other classes.\n",
        "\n",
        "Derived Class (Child Class): This class inherits the properties and methods of the base class. The derived class can also add its own unique properties and methods or modify (override) the inherited ones.\n",
        "7 What is polymorphism in OOP ?\n",
        "- Polymorphism in Object-Oriented Programming (OOP) refers to the ability of different objects to respond to the same method call in a way that is specific to their type. It allows methods to have different implementations depending on the object that is calling them. The term \"polymorphism\" comes from Greek words that mean \"many forms,\" and in OOP, it means that a single method or function can behave differently based on the type of object that invokes it.\n",
        "8  How is encapsulation achieved in Python ?\n",
        "- Encapsulation in Python is achieved by restricting direct access to certain attributes or methods of an object and bundling the data (attributes) and methods (functions) that operate on the data into a single unit, typically a class. This is done to protect the internal state of an object and ensure that it can only be accessed or modified through well-defined interfaces.\n",
        " 1. Public Attributes and Methods\n",
        " 2. Private Attributes and Methods\n",
        " 3. Protected Attributes and Methods:\n",
        "9 What is a constructor in Python ?\n",
        "- In Python, a constructor is a special method used to initialize objects when a class is instantiated. The constructor method in Python is called __init__(). It is automatically invoked when an object of the class is created. The purpose of the constructor is to initialize the attributes (variables) of the object with specific values or perform any setup tasks required for the object.\n",
        "10 What are class and static methods in Python ?\n",
        "- In Python, class methods and static methods are two types of methods that belong to a class but are used differently than instance methods (the regular methods defined in a class).\n",
        "\n",
        "1. Class Method:\n",
        "A class method is a method that is bound to the class, rather than to an instance of the class. It is defined using the @classmethod decorator and takes the class itself as the first parameter (conventionally named cls), rather than the instance (self).\n",
        "\n",
        "Class methods are typically used for factory methods or methods that need to operate on the class itself rather than on an instance.\n",
        "2. Static Method:\n",
        "A static method is a method that doesn't take self or cls as the first argument. It behaves like a regular function that belongs to the class's namespace. Static methods are defined using the @staticmethod decorator. Static methods don’t operate on class or instance data and are generally used when you want to keep the method within the class for organizational purposes, but it doesn’t need access to instance or class-specific data.\n",
        "11 What is method overloading in Python ?\n",
        "- Method overloading in Python refers to the ability to define multiple methods with the same name but different parameters (either different types or a different number of parameters). However, Python does not directly support traditional method overloading like some other languages (e.g., Java or C++). Instead, Python allows you to define a method that can handle different types or numbers of arguments, typically through default arguments, variable-length argument lists, or by using a conditional structure within the method.\n",
        "\n",
        "Here are a few common ways Python can simulate method overloading:\n",
        "12 What is method overriding in OOP ?\n",
        "- In Object-Oriented Programming (OOP), method overriding is a feature that allows a subclass (or derived class) to provide a specific implementation for a method that is already defined in its superclass (or base class). This enables the subclass to modify or extend the behavior of the method without changing the method's signature.\n",
        "13 What is a property decorator in Python ?\n",
        "- In Python, a property decorator is a built-in function that allows you to define a method that behaves like an attribute, but with custom getter, setter, and deleter functionality. It is commonly used to manage access to an instance's attributes while maintaining encapsulation and avoiding direct attribute manipulation.\n",
        "\n",
        "The @property decorator turns a method into a \"read-only\" property, meaning you can access it as if it were an attribute, but it can still execute logic behind the scenes. You can also use @<property_name>.setter and @<property_name>.deleter to define methods for setting or deleting the property.\n",
        "14  Why is polymorphism important in OOP ?\n",
        "- 1. Code Reusability\n",
        "Polymorphism allows you to use the same method or function name across different classes, even if the underlying implementation is different. This means you can write more generic code that works with objects of different types without worrying about their specific classes.\n",
        "\n",
        "Example: A single function draw() can be used for drawing different shapes (Circle, Square, etc.), even though each shape has a different way of drawing.\n",
        "\n",
        "2. Simplified Code\n",
        "It reduces the need to rewrite code or use conditionals to handle different data types. Instead of checking the type of an object and calling a specific method, polymorphism lets you invoke the same method on objects of different types, simplifying code and making it easier to maintain.\n",
        "\n",
        "Example: With polymorphism, you can call a method makeSound() on both a Dog and a Cat object without needing to check if the object is a dog or a cat.\n",
        "\n",
        "3. Extensibility and Maintenance\n",
        "As your program grows, polymorphism allows you to extend functionality without changing existing code. If you need to add a new shape, for instance, you can simply create a new class that inherits from a common interface or abstract class and implements its own version of the method, leaving existing code unchanged.\n",
        "\n",
        "4. Dynamic Method Dispatch\n",
        "Polymorphism enables dynamic method dispatch, meaning that the method which gets executed is determined at runtime based on the object type, rather than at compile time. This is crucial for writing flexible and adaptable systems where the behavior can change based on the actual object type.\n",
        "15 What is an abstract class in Python ?\n",
        "- What is an abstract class in Python\n",
        "ChatGPT said:\n",
        "An abstract class in Python is a class that cannot be instantiated directly. It serves as a blueprint for other classes. Abstract classes are used to define common interfaces for subclasses, enforcing that they implement certain methods. This helps in creating a clear structure in your code.\n",
        "\n",
        "Python provides the abc (Abstract Base Class) module to define abstract classes and methods. An abstract method is a method that is declared but contains no implementation. Subclasses of an abstract class must implement all of its abstract methods, or they will also be considered abstract and cannot be instantiated.\n",
        "16 What are the advantages of OOP ?\n",
        "1. Modularity (Encapsulation)\n",
        "OOP allows you to create modular code by encapsulating data and functions into objects. This makes it easier to manage and organize the code into distinct units, which are typically easier to understand and modify. Each object can be treated as a black box, meaning the internal workings of an object are hidden from other parts of the system.\n",
        "\n",
        "2. Reusability (Inheritance)\n",
        "OOP promotes code reusability through inheritance. You can create new classes that inherit attributes and methods from existing classes, which reduces the need to write repetitive code. Once a class is created, it can be extended to form new classes with added functionality.\n",
        "17 What is the difference between a class variable and an instance variable ?\n",
        "- Class Variable:\n",
        "Definition: A class variable is a variable that is shared by all instances (objects) of a class. It is defined within the class but outside any methods.\n",
        "\n",
        "Scope: The variable belongs to the class itself and not to any specific instance.\n",
        "\n",
        "Access: It can be accessed by all instances of the class and can be modified by any of them. However, it’s generally accessed via the class name.\n",
        "Instance Variable:\n",
        "Definition: An instance variable is a variable that is specific to a particular instance of the class. It is usually defined within the __init__ method (the constructor) and is prefixed with self.\n",
        "\n",
        "Scope: The variable is tied to a particular object (instance) and holds different values for each instance.\n",
        "\n",
        "Access: It is accessed and modified through instances of the class.\n",
        "18  What is multiple inheritance in Python ?\n",
        "- In Python, multiple inheritance is a feature that allows a class to inherit attributes and methods from more than one parent class. This enables the derived class (also called the child class) to inherit the properties and behaviors from multiple classes, providing flexibility and reusability.\n",
        "19 Explain the purpose of ‘’__str__’ and ‘__repr__’ ‘ methods in Python ?\n",
        "- __str__:\n",
        "Purpose: The __str__ method is used to define a \"nice\" or \"informal\" string representation of an object that is aimed at humans. It's what gets returned when you use print() on an object or when you call str() on an object.\n",
        "\n",
        "When it's called: It's used when you try to print the object or convert it to a string.\n",
        "__repr__:\n",
        "Purpose: The __repr__ method is used to define a more \"formal\" or \"official\" string representation of an object that is aimed at developers. This is the string that appears when you call repr() on an object or when you enter the object in the Python interpreter. It’s meant to give a detailed and unambiguous representation of the object, ideally something that could be used to recreate the object.\n",
        "\n",
        "When it's called: It's used in the interactive interpreter or when repr() is explicitly called\n",
        "20  What is the significance of the ‘super()’ function in Python ?\n",
        "- The super() function in Python is significant because it provides a way to call methods from a parent (or superclass) class in a class hierarchy. It is commonly used in object-oriented programming, especially when dealing with inheritance, to allow child classes to call methods from their parent classes without explicitly naming them.\n",
        " 1. Access Parent Class Methods\n",
        " 2. Avoid Hardcoding Parent Class Name\n",
        " 3. Support for Multiple Inheritance\n",
        "21 What is the significance of the __del__ method in Python ?\n",
        "- In Python, the __del__ method is a special method known as a destructor. It is called when an object is about to be destroyed, meaning when there are no more references to the object, and it is being garbage collected. The __del__ method allows you to define custom cleanup behavior when an object is deleted, such as closing files, releasing resources, or freeing memory explicitly.\n",
        "22 What is the difference between @staticmethod and @classmethod in Python ?\n",
        "- 1. @staticmethod:\n",
        "Does not take the class or instance as a parameter: A static method does not automatically receive the instance (self) or the class (cls) as the first parameter.\n",
        "\n",
        "Usage: Static methods are used when you need a method that logically belongs to the class but doesn't need access to any class or instance-specific data (attributes or methods).\n",
        "\n",
        "Access: It cannot modify or access the instance or class state.\n",
        "2. @classmethod:\n",
        "Takes the class as the first parameter (cls): A class method receives the class itself as the first argument, rather than an instance.\n",
        "\n",
        "Usage: Class methods are used when you need a method that operates on the class itself, often to create or modify class-level data or create alternative constructors.\n",
        "\n",
        "Access: It can access and modify class-level attributes but cannot modify instance-specific data.\n",
        "23 How does polymorphism work in Python with inheritance ?\n",
        "- Polymorphism in Python allows you to use a single interface to represent different types or classes. It enables objects of different classes to be treated as instances of the same class through inheritance, and it allows for method overriding. This concept is especially useful when dealing with a hierarchy of classes, where the parent class defines a method and subclasses provide their own specific implementation of that method.\n",
        "24  What is method chaining in Python OOP ?\n",
        "- Method chaining in Python OOP (Object-Oriented Programming) refers to the practice of calling multiple methods on the same object in a single line of code. This is possible when each method returns the object itself (i.e., self), allowing you to chain calls together.\n",
        "25  What is the purpose of the __call__ method in Python ?\n",
        "- In Python, the __call__ method allows an instance of a class to be called like a function. When you define a __call__ method in a class, you enable the class instances to be \"callable\" — meaning you can use parentheses () to invoke the instance, just as you would with a regular function.\n",
        "Function Objects: Sometimes you want to store behavior in objects, and calling the object like a function makes it easier to use.\n",
        "\n",
        "Callbacks: You can use __call__ to define custom behavior when objects are used as callbacks.\n",
        "\n",
        "Decorators: __call__ is used in decorator patterns, where classes can modify the behavior of functions.\n",
        "## Practical Questions\n",
        "1  Create a parent class Animal with a method speak() that prints a generic message. Create a child class Dog\n",
        "that overrides the speak() method to print \"Bark ?"
      ],
      "metadata": {
        "id": "SjYBe_ZH-lro"
      }
    },
    {
      "cell_type": "code",
      "source": [
        "from google.colab import drive\n",
        "drive.mount('/content/drive')"
      ],
      "metadata": {
        "id": "slN_gfmZU-lm"
      },
      "execution_count": null,
      "outputs": []
    },
    {
      "cell_type": "code",
      "source": [
        "# Parent class Animal\n",
        "class Animal:\n",
        "    def speak(self):\n",
        "        print(\"The animal makes a sound\")\n",
        "\n",
        "# Child class Dog that overrides the speak method\n",
        "class Dog(Animal):\n",
        "    def speak(self):\n",
        "        print(\"Bark!\")\n",
        "\n",
        "# Creating an instance of Dog\n",
        "dog = Dog()\n",
        "dog.speak()  # This will print \"Bark!\"\n"
      ],
      "metadata": {
        "colab": {
          "base_uri": "https://localhost:8080/"
        },
        "id": "cRRuxjklLHd7",
        "outputId": "0ecabd34-eba5-48d2-894a-bb5c9a8e6426"
      },
      "execution_count": null,
      "outputs": [
        {
          "output_type": "stream",
          "name": "stdout",
          "text": [
            "Bark!\n"
          ]
        }
      ]
    },
    {
      "cell_type": "markdown",
      "source": [
        "2  Write a program to create an abstract class Shape with a method area(). Derive classes Circle and Rectangle\n",
        "from it and implement the area() method in both ?"
      ],
      "metadata": {
        "id": "8yWSGfvfLMc9"
      }
    },
    {
      "cell_type": "code",
      "source": [
        "from abc import ABC, abstractmethod\n",
        "import math\n",
        "\n",
        "# Abstract class Shape\n",
        "class Shape(ABC):\n",
        "    @abstractmethod\n",
        "    def area(self):\n",
        "        pass\n",
        "\n",
        "# Class Circle derived from Shape\n",
        "class Circle(Shape):\n",
        "    def __init__(self, radius):\n",
        "        self.radius = radius\n",
        "\n",
        "    def area(self):\n",
        "        return math.pi * (self.radius ** 2)\n",
        "\n",
        "# Class Rectangle derived from Shape\n",
        "class Rectangle(Shape):\n",
        "    def __init__(self, width, height):\n",
        "        self.width = width\n",
        "        self.height = height\n",
        "\n",
        "    def area(self):\n",
        "        return self.width * self.height\n",
        "\n",
        "# Example usage\n",
        "circle = Circle(5)\n",
        "rectangle = Rectangle(4, 6)\n",
        "\n",
        "print(f\"Area of circle: {circle.area():.2f}\")\n",
        "print(f\"Area of rectangle: {rectangle.area()}\")\n"
      ],
      "metadata": {
        "colab": {
          "base_uri": "https://localhost:8080/"
        },
        "id": "Tm7BWilVLVWr",
        "outputId": "cb015462-82c3-435d-88bc-6b0db2a732ca"
      },
      "execution_count": null,
      "outputs": [
        {
          "output_type": "stream",
          "name": "stdout",
          "text": [
            "Area of circle: 78.54\n",
            "Area of rectangle: 24\n"
          ]
        }
      ]
    },
    {
      "cell_type": "markdown",
      "source": [],
      "metadata": {
        "id": "GjcjOTz7LZa_"
      }
    },
    {
      "cell_type": "markdown",
      "source": [
        "3 . Implement a multi-level inheritance scenario where a class Vehicle has an attribute type. Derive a class Car\n",
        "and further derive a class ElectricCar that adds a battery attribute.?"
      ],
      "metadata": {
        "id": "JHUKOgEoLfd0"
      }
    },
    {
      "cell_type": "code",
      "source": [
        "# Base class Vehicle\n",
        "class Vehicle:\n",
        "    def __init__(self, vehicle_type):\n",
        "        self.vehicle_type = vehicle_type\n",
        "\n",
        "    def display_type(self):\n",
        "        print(f\"This is a {self.vehicle_type}.\")\n",
        "\n",
        "# Derived class Car from Vehicle\n",
        "class Car(Vehicle):\n",
        "    def __init__(self, vehicle_type, make, model):\n",
        "        # Call the constructor of the parent class\n",
        "        super().__init__(vehicle_type)\n",
        "        self.make = make\n",
        "        self.model = model\n",
        "\n",
        "    def display_car_details(self):\n",
        "        print(f\"This car is a {self.make} {self.model}.\")\n",
        "\n",
        "# Further derived class ElectricCar from Car\n",
        "class ElectricCar(Car):\n",
        "    def __init__(self, vehicle_type, make, model, battery_capacity):\n",
        "        # Call the constructor of the parent class (Car)\n",
        "        super().__init__(vehicle_type, make, model)\n",
        "        self.battery_capacity = battery_capacity\n",
        "\n",
        "    def display_battery_capacity(self):\n",
        "        print(f\"This electric car has a battery capacity of {self.battery_capacity} kWh.\")\n",
        "\n",
        "# Create an instance of ElectricCar\n",
        "my_electric_car = ElectricCar(\"Electric\", \"Tesla\", \"Model 3\", 75)\n",
        "\n",
        "# Display the details\n",
        "my_electric_car.display_type()  # Inherited from Vehicle\n",
        "my_electric_car.display_car_details()  # Inherited from Car\n",
        "my_electric_car.display_battery_capacity()  # Specific to ElectricCar\n"
      ],
      "metadata": {
        "id": "ql6uQwkcLsID"
      },
      "execution_count": null,
      "outputs": []
    },
    {
      "cell_type": "markdown",
      "source": [
        "4 . Demonstrate polymorphism by creating a base class Bird with a method fly(). Create two derived classes\n",
        "Sparrow and Penguin that override the fly() method ?"
      ],
      "metadata": {
        "id": "mzHFKg97LuDM"
      }
    },
    {
      "cell_type": "code",
      "source": [
        "# Base class\n",
        "class Bird:\n",
        "    def fly(self):\n",
        "        print(\"This bird flies in the sky.\")\n",
        "\n",
        "# Derived class Sparrow\n",
        "class Sparrow(Bird):\n",
        "    def fly(self):\n",
        "        print(\"Sparrow flies high in the sky.\")\n",
        "\n",
        "# Derived class Penguin\n",
        "class Penguin(Bird):\n",
        "    def fly(self):\n",
        "        print(\"Penguin cannot fly, but it swims well.\")\n",
        "\n",
        "# Demonstrating polymorphism\n",
        "def make_bird_fly(bird):\n",
        "    bird.fly()\n",
        "\n",
        "# Creating instances of Sparrow and Penguin\n",
        "sparrow = Sparrow()\n",
        "penguin = Penguin()\n",
        "\n",
        "# Calling the same method, but polymorphism determines which fly() method is called\n",
        "make_bird_fly(sparrow)   # Output: Sparrow flies high in the sky.\n",
        "make_bird_fly(penguin)   # Output: Penguin cannot fly, but it swims well.\n"
      ],
      "metadata": {
        "colab": {
          "base_uri": "https://localhost:8080/"
        },
        "id": "0DybvSbkL3Ch",
        "outputId": "fe49c3b5-4cd3-40aa-8d71-735e41233960"
      },
      "execution_count": null,
      "outputs": [
        {
          "output_type": "stream",
          "name": "stdout",
          "text": [
            "Sparrow flies high in the sky.\n",
            "Penguin cannot fly, but it swims well.\n"
          ]
        }
      ]
    },
    {
      "cell_type": "markdown",
      "source": [
        "5  Write a program to demonstrate encapsulation by creating a class BankAccount with private attributes\n",
        "balance and methods to deposit, withdraw, and check balance. ?"
      ],
      "metadata": {
        "id": "XjSf75hhMH2G"
      }
    },
    {
      "cell_type": "code",
      "source": [
        "class BankAccount:\n",
        "    def __init__(self, initial_balance=0):\n",
        "        # Private attribute (by convention, a leading underscore indicates it's private)\n",
        "        self._balance = initial_balance\n",
        "\n",
        "    # Method to deposit money\n",
        "    def deposit(self, amount):\n",
        "        if amount > 0:\n",
        "            self._balance += amount\n",
        "            print(f\"Deposited ${amount}. New balance: ${self._balance}\")\n",
        "        else:\n",
        "            print(\"Deposit amount must be positive.\")\n",
        "\n",
        "    # Method to withdraw money\n",
        "    def withdraw(self, amount):\n",
        "        if amount > 0:\n",
        "            if amount <= self._balance:\n",
        "                self._balance -= amount\n",
        "                print(f\"Withdrew ${amount}. New balance: ${self._balance}\")\n",
        "            else:\n",
        "                print(\"Insufficient funds.\")\n",
        "        else:\n",
        "            print(\"Withdrawal amount must be positive.\")\n",
        "\n",
        "    # Method to check balance (getter)\n",
        "    def check_balance(self):\n",
        "        return f\"Current balance: ${self._balance}\"\n",
        "\n",
        "# Creating a BankAccount object\n",
        "account = BankAccount(1000)  # Initial balance of 1000\n",
        "\n",
        "# Checking the balance\n",
        "print(account.check_balance())\n",
        "\n",
        "# Depositing money\n",
        "account.deposit(500)\n",
        "\n",
        "# Withdrawing money\n",
        "account.withdraw(200)\n",
        "\n",
        "# Trying to withdraw more than available\n",
        "account.withdraw(2000)\n",
        "\n",
        "# Checking the balance again\n",
        "print(account.check_balance())\n"
      ],
      "metadata": {
        "colab": {
          "base_uri": "https://localhost:8080/"
        },
        "id": "RI1iUdpAMOYg",
        "outputId": "518bb6ad-b094-46d1-ec98-87ec89bd0d72"
      },
      "execution_count": null,
      "outputs": [
        {
          "output_type": "stream",
          "name": "stdout",
          "text": [
            "Current balance: $1000\n",
            "Deposited $500. New balance: $1500\n",
            "Withdrew $200. New balance: $1300\n",
            "Insufficient funds.\n",
            "Current balance: $1300\n"
          ]
        }
      ]
    },
    {
      "cell_type": "markdown",
      "source": [
        "6  Demonstrate runtime polymorphism using a method play() in a base class Instrument. Derive classes Guitar\n",
        "and Piano that implement their own version of play().?"
      ],
      "metadata": {
        "id": "32-Pz-5bMWId"
      }
    },
    {
      "cell_type": "code",
      "source": [
        "# Base class\n",
        "class Instrument:\n",
        "    def play(self):\n",
        "        raise NotImplementedError(\"Subclass must implement abstract method\")\n",
        "\n",
        "# Derived class Guitar\n",
        "class Guitar(Instrument):\n",
        "    def play(self):\n",
        "        return \"Playing the guitar\"\n",
        "\n",
        "# Derived class Piano\n",
        "class Piano(Instrument):\n",
        "    def play(self):\n",
        "        return \"Playing the piano\"\n",
        "\n",
        "# Function to demonstrate runtime polymorphism\n",
        "def demonstrate_play(instrument: Instrument):\n",
        "    print(instrument.play())\n",
        "\n",
        "# Main program\n",
        "if __name__ == \"__main__\":\n",
        "    # Creating instances of derived classes\n",
        "    guitar = Guitar()\n",
        "    piano = Piano()\n",
        "\n",
        "    # Passing instances to the demonstrate_play function\n",
        "    demonstrate_play(guitar)  # Output: Playing the guitar\n",
        "    demonstrate_play(piano)   # Output: Playing the piano\n"
      ],
      "metadata": {
        "colab": {
          "base_uri": "https://localhost:8080/"
        },
        "id": "cLHlNEH0M2qW",
        "outputId": "1872f9f3-c22a-46a7-ade4-699c6810aa19"
      },
      "execution_count": null,
      "outputs": [
        {
          "output_type": "stream",
          "name": "stdout",
          "text": [
            "Playing the guitar\n",
            "Playing the piano\n"
          ]
        }
      ]
    },
    {
      "cell_type": "markdown",
      "source": [
        "7  Create a class MathOperations with a class method add_numbers() to add two numbers and a static\n",
        "method subtract_numbers() to subtract two numbers ?"
      ],
      "metadata": {
        "id": "bo3F6evxM66e"
      }
    },
    {
      "cell_type": "code",
      "source": [
        "class MathOperations:\n",
        "\n",
        "    @classmethod\n",
        "    def add_numbers(cls, num1, num2):\n",
        "        return num1 + num2\n",
        "\n",
        "    @staticmethod\n",
        "    def subtract_numbers(num1, num2):\n",
        "        return num1 - num2\n",
        "\n",
        "# Example usage\n",
        "result_add = MathOperations.add_numbers(10, 5)  # Using class method\n",
        "result_subtract = MathOperations.subtract_numbers(10, 5)  # Using static method\n",
        "\n",
        "print(f\"Addition Result: {result_add}\")\n",
        "print(f\"Subtraction Result: {result_subtract}\")\n"
      ],
      "metadata": {
        "colab": {
          "base_uri": "https://localhost:8080/"
        },
        "id": "ty2T4U4jM9HK",
        "outputId": "dfc0cf35-3542-47df-85c7-0b5902c5cc78"
      },
      "execution_count": null,
      "outputs": [
        {
          "output_type": "stream",
          "name": "stdout",
          "text": [
            "Addition Result: 15\n",
            "Subtraction Result: 5\n"
          ]
        }
      ]
    },
    {
      "cell_type": "markdown",
      "source": [
        "8 . Implement a class Person with a class method to count the total number of persons created. ?\n"
      ],
      "metadata": {
        "id": "u6lPhKC-NDuL"
      }
    },
    {
      "cell_type": "code",
      "source": [
        "class Person:\n",
        "    # Class variable to store the count of persons created\n",
        "    total_persons = 0\n",
        "\n",
        "    def __init__(self, name, age):\n",
        "        self.name = name\n",
        "        self.age = age\n",
        "        # Increment the count each time a new Person is created\n",
        "        Person.total_persons += 1\n",
        "\n",
        "    # Class method to get the total count of persons created\n",
        "    @classmethod\n",
        "    def get_total_persons(cls):\n",
        "        return cls.total_persons\n",
        "\n",
        "# Example Usage:\n",
        "person1 = Person(\"Alice\", 30)\n",
        "person2 = Person(\"Bob\", 25)\n",
        "person3 = Person(\"Charlie\", 35)\n",
        "\n",
        "# Calling the class method to get the total number of persons created\n",
        "print(Person.get_total_persons())  # Output: 3\n"
      ],
      "metadata": {
        "colab": {
          "base_uri": "https://localhost:8080/"
        },
        "id": "tmZJsQG6NI0n",
        "outputId": "f56d1a95-a052-44bd-d328-7b5e76f34fba"
      },
      "execution_count": null,
      "outputs": [
        {
          "output_type": "stream",
          "name": "stdout",
          "text": [
            "3\n"
          ]
        }
      ]
    },
    {
      "cell_type": "markdown",
      "source": [
        "9  Write a class Fraction with attributes numerator and denominator. Override the str method to display the\n",
        "fraction as \"numerator/denominator ?"
      ],
      "metadata": {
        "id": "BMC5crm6NN4s"
      }
    },
    {
      "cell_type": "code",
      "source": [
        "class Fraction:\n",
        "    def __init__(self, numerator, denominator):\n",
        "        self.numerator = numerator\n",
        "        self.denominator = denominator\n",
        "\n",
        "    def __str__(self):\n",
        "        return f\"{self.numerator}/{self.denominator}\"\n",
        "\n",
        "# Example usage\n",
        "fraction = Fraction(3, 4)\n",
        "print(fraction)  # Output: 3/4\n"
      ],
      "metadata": {
        "colab": {
          "base_uri": "https://localhost:8080/"
        },
        "id": "bc2ZAYFvNSvA",
        "outputId": "4e077032-feb6-42b0-8249-f497c3dd327a"
      },
      "execution_count": null,
      "outputs": [
        {
          "output_type": "stream",
          "name": "stdout",
          "text": [
            "3/4\n"
          ]
        }
      ]
    },
    {
      "cell_type": "markdown",
      "source": [
        "10  Demonstrate operator overloading by creating a class Vector and overriding the add method to add two\n",
        "vectors ?"
      ],
      "metadata": {
        "id": "-TxI32r1NZVZ"
      }
    },
    {
      "cell_type": "code",
      "source": [
        "class Vector:\n",
        "    def __init__(self, x, y):\n",
        "        self.x = x\n",
        "        self.y = y\n",
        "\n",
        "    # Overloading the '+' operator\n",
        "    def __add__(self, other):\n",
        "        # Adding corresponding components of two vectors\n",
        "        return Vector(self.x + other.x, self.y + other.y)\n",
        "\n",
        "    def __repr__(self):\n",
        "        return f\"Vector({self.x}, {self.y})\"\n",
        "\n",
        "# Example usage\n",
        "vector1 = Vector(2, 3)\n",
        "vector2 = Vector(4, 1)\n",
        "\n",
        "# Using the overloaded '+' operator\n",
        "result = vector1 + vector2\n",
        "\n",
        "print(f\"Vector 1: {vector1}\")\n",
        "print(f\"Vector 2: {vector2}\")\n",
        "print(f\"Result of addition: {result}\")\n"
      ],
      "metadata": {
        "colab": {
          "base_uri": "https://localhost:8080/"
        },
        "id": "OJ1JDS4DNd5B",
        "outputId": "d243da56-9f5e-4844-e494-fd49d1cb85c6"
      },
      "execution_count": null,
      "outputs": [
        {
          "output_type": "stream",
          "name": "stdout",
          "text": [
            "Vector 1: Vector(2, 3)\n",
            "Vector 2: Vector(4, 1)\n",
            "Result of addition: Vector(6, 4)\n"
          ]
        }
      ]
    },
    {
      "cell_type": "markdown",
      "source": [
        "11  Create a class Person with attributes name and age. Add a method greet() that prints \"Hello, my name is\n",
        "{name} and I am {age} years old ?"
      ],
      "metadata": {
        "id": "SxWhoMCINkKu"
      }
    },
    {
      "cell_type": "code",
      "source": [
        "class Person:\n",
        "    def __init__(self, name, age):\n",
        "        self.name = name\n",
        "        self.age = age\n",
        "\n",
        "    def greet(self):\n",
        "        print(f\"Hello, my name is {self.name} and I am {self.age} years old\")\n",
        "\n",
        "# Example of creating an instance and calling the greet method\n",
        "person1 = Person(\"Alice\", 30)\n",
        "person1.greet()\n"
      ],
      "metadata": {
        "colab": {
          "base_uri": "https://localhost:8080/"
        },
        "id": "p3Jfp0-mNoZw",
        "outputId": "2cd4aa31-ff5e-443a-82a3-56568c4f6641"
      },
      "execution_count": null,
      "outputs": [
        {
          "output_type": "stream",
          "name": "stdout",
          "text": [
            "Hello, my name is Alice and I am 30 years old\n"
          ]
        }
      ]
    },
    {
      "cell_type": "markdown",
      "source": [
        "12 . Implement a class Student with attributes name and grades. Create a method average_grade() to compute\n",
        "the average of the grades. ?"
      ],
      "metadata": {
        "id": "nXgkXicLNuO2"
      }
    },
    {
      "cell_type": "code",
      "source": [
        "class Student:\n",
        "    def __init__(self, name, grades):\n",
        "        self.name = name  # Attribute for the student's name\n",
        "        self.grades = grades  # Attribute for the list\n"
      ],
      "metadata": {
        "id": "qVLlwYXwN1ex"
      },
      "execution_count": null,
      "outputs": []
    },
    {
      "cell_type": "markdown",
      "source": [
        "13  Create a class Rectangle with methods set_dimensions() to set the dimensions and area() to calculate the\n",
        "area. ?"
      ],
      "metadata": {
        "id": "ddFHaisHN51k"
      }
    },
    {
      "cell_type": "code",
      "source": [
        "class Rectangle:\n",
        "    def __init__(self):\n",
        "        self.length = 0\n",
        "        self.width = 0\n",
        "\n",
        "    def set_dimensions(self, length, width):\n",
        "        self.length = length\n",
        "        self.width = width\n",
        "\n",
        "    def area(self):\n",
        "        return self.length * self.width\n"
      ],
      "metadata": {
        "id": "2eQAuMAbN-qk"
      },
      "execution_count": null,
      "outputs": []
    },
    {
      "cell_type": "markdown",
      "source": [
        "14  Create a class Employee with a method calculate_salary() that computes the salary based on hours worked\n",
        "and hourly rate. Create a derived class Manager that adds a bonus to the salary. ?"
      ],
      "metadata": {
        "id": "Yki3lEpbOGSQ"
      }
    },
    {
      "cell_type": "code",
      "source": [
        "class Employee:\n",
        "    def __init__(self, name, hours_worked, hourly_rate):\n",
        "        self.name = name\n",
        "        self.hours_worked = hours_worked\n",
        "        self.hourly_rate = hourly_rate\n",
        "\n",
        "    def calculate_salary(self):\n",
        "        # Salary is calculated as hours worked multiplied by hourly rate\n",
        "        return self.hours_worked * self.hourly_rate\n",
        "\n",
        "\n",
        "class Manager(Employee):\n",
        "    def __init__(self, name, hours_worked, hourly_rate, bonus):\n",
        "        # Initialize the base Employee class\n",
        "        super().__init__(name, hours_worked, hourly_rate)\n",
        "        self.bonus = bonus\n",
        "\n",
        "    def calculate_salary(self):\n",
        "        # Calculate the base salary first\n",
        "        base_salary = super().calculate_salary()\n",
        "        # Add bonus to the base salary\n",
        "        return base_salary + self.bonus\n",
        "\n",
        "\n",
        "# Example usage:\n",
        "\n",
        "# Create an Employee instance\n",
        "employee = Employee(\"John Doe\", 40, 15)\n",
        "print(f\"Employee Salary: ${employee.calculate_salary()}\")\n",
        "\n",
        "# Create a Manager instance with a bonus\n",
        "manager = Manager(\"Jane Smith\", 40, 20, 500)\n",
        "print(f\"Manager Salary: ${manager.calculate_salary()}\")\n"
      ],
      "metadata": {
        "colab": {
          "base_uri": "https://localhost:8080/"
        },
        "id": "Afwjj_6_OLW3",
        "outputId": "9e131c13-3580-4fd9-f181-cabcf63c4fd7"
      },
      "execution_count": null,
      "outputs": [
        {
          "output_type": "stream",
          "name": "stdout",
          "text": [
            "Employee Salary: $600\n",
            "Manager Salary: $1300\n"
          ]
        }
      ]
    },
    {
      "cell_type": "markdown",
      "source": [
        "15 . . Create a class Product with attributes name, price, and quantity. Implement a method total_price() that\n",
        "calculates the total price of the product ?"
      ],
      "metadata": {
        "id": "x3v21FncOSKp"
      }
    },
    {
      "cell_type": "code",
      "source": [
        "class Product:\n",
        "    def __init__(self, name, price, quantity):\n",
        "        self.name = name\n",
        "        self.price = price\n",
        "        self.quantity = quantity\n",
        "\n",
        "    def total_price(self):\n",
        "        return self.price * self.quantity\n",
        "\n",
        "# Example usage:\n",
        "product = Product(\"Laptop\", 1000, 3)\n",
        "print(f\"Total price for {product.name}: ${product.total_price()}\")\n"
      ],
      "metadata": {
        "colab": {
          "base_uri": "https://localhost:8080/"
        },
        "id": "INvci-gjOn5N",
        "outputId": "8e12e338-462b-4fea-a35a-906b9d998f2b"
      },
      "execution_count": null,
      "outputs": [
        {
          "output_type": "stream",
          "name": "stdout",
          "text": [
            "Total price for Laptop: $3000\n"
          ]
        }
      ]
    },
    {
      "cell_type": "markdown",
      "source": [
        "16  Create a class Animal with an abstract method sound(). Create two derived classes Cow and Sheep that\n",
        "implement the sound() method ?"
      ],
      "metadata": {
        "id": "C-Mr3oC4OtfR"
      }
    },
    {
      "cell_type": "code",
      "source": [
        "from abc import ABC, abstractmethod\n",
        "\n",
        "# Abstract class Animal\n",
        "class Animal(ABC):\n",
        "    @abstractmethod\n",
        "    def sound(self):\n",
        "        pass\n",
        "\n",
        "# Derived class Cow\n",
        "class Cow(Animal):\n",
        "    def sound(self):\n",
        "        return \"Moo\"\n",
        "\n",
        "# Derived class Sheep\n",
        "class Sheep(Animal):\n",
        "    def sound(self):\n",
        "        return \"Baa\"\n",
        "\n",
        "# Example of usage\n",
        "cow = Cow()\n",
        "sheep = Sheep()\n",
        "\n",
        "print(cow.sound())  # Output: Moo\n",
        "print(sheep.sound())  # Output: Baa\n"
      ],
      "metadata": {
        "colab": {
          "base_uri": "https://localhost:8080/"
        },
        "id": "Ad-hpA8aOyHc",
        "outputId": "716bfef5-5d6a-4440-be43-59fc557809f8"
      },
      "execution_count": null,
      "outputs": [
        {
          "output_type": "stream",
          "name": "stdout",
          "text": [
            "Moo\n",
            "Baa\n"
          ]
        }
      ]
    },
    {
      "cell_type": "markdown",
      "source": [
        "17 Create a class Book with attributes title, author, and year_published. Add a method get_book_info() that\n",
        "returns a formatted string with the book's details. ?"
      ],
      "metadata": {
        "id": "PJIkFDRFO3MO"
      }
    },
    {
      "cell_type": "code",
      "source": [
        "class Book:\n",
        "    def __init__(self, title, author, year_published):\n",
        "        self.title = title\n",
        "        self.author = author\n",
        "        self.year_published = year_published\n",
        "\n",
        "    def get_book_info(self):\n",
        "        return f\"Title: {self.title}\\nAuthor: {self.author}\\nYear Published: {self.year_published}\"\n",
        "\n",
        "# Example usage:\n",
        "book1 = Book(\"1984\", \"George Orwell\", 1949)\n",
        "print(book1.get_book_info())\n"
      ],
      "metadata": {
        "colab": {
          "base_uri": "https://localhost:8080/"
        },
        "id": "tmDQy4ggO8mV",
        "outputId": "5c308024-3708-47eb-e4d7-e316d74f4bdc"
      },
      "execution_count": null,
      "outputs": [
        {
          "output_type": "stream",
          "name": "stdout",
          "text": [
            "Title: 1984\n",
            "Author: George Orwell\n",
            "Year Published: 1949\n"
          ]
        }
      ]
    },
    {
      "cell_type": "markdown",
      "source": [
        "18  Create a class House with attributes address and price. Create a derived class Mansion that adds an\n",
        "attribute number_of_rooms ?"
      ],
      "metadata": {
        "id": "8vq30lzOPCcW"
      }
    },
    {
      "cell_type": "code",
      "source": [
        "# Base class: House\n",
        "class House:\n",
        "    def __init__(self, address, price):\n",
        "        self.address = address\n",
        "        self.price = price\n",
        "\n",
        "    def display_info(self):\n",
        "        print(f\"Address: {self.address}\")\n",
        "        print(f\"Price: ${self.price}\")\n",
        "\n",
        "# Derived class: Mansion\n",
        "class Mansion(House):\n",
        "    def __init__(self, address, price, number_of_rooms):\n",
        "        # Calling the __init__ method of the parent class\n",
        "        super().__init__(address, price)\n",
        "        self.number_of_rooms = number_of_rooms\n",
        "\n",
        "    def display_info(self):\n",
        "        # Display information about the mansion\n",
        "        super().display_info()\n",
        "        print(f\"Number of rooms: {self.number_of_rooms}\")\n",
        "\n",
        "# Example usage\n",
        "house = House(\"123 Main St\", 300000)\n",
        "house.display_info()\n",
        "\n",
        "print()\n",
        "\n",
        "mansion = Mansion(\"456 Luxury Ln\", 2000000, 10)\n",
        "mansion.display_info()\n"
      ],
      "metadata": {
        "colab": {
          "base_uri": "https://localhost:8080/"
        },
        "id": "iyOSt-gEPHOC",
        "outputId": "cbdc5b01-e42f-48cf-cd8a-286b67dab4ce"
      },
      "execution_count": null,
      "outputs": [
        {
          "output_type": "stream",
          "name": "stdout",
          "text": [
            "Address: 123 Main St\n",
            "Price: $300000\n",
            "\n",
            "Address: 456 Luxury Ln\n",
            "Price: $2000000\n",
            "Number of rooms: 10\n"
          ]
        }
      ]
    }
  ]
}